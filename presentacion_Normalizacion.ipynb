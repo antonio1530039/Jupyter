{
 "cells": [
  {
   "cell_type": "code",
   "execution_count": 14,
   "metadata": {},
   "outputs": [
    {
     "name": "stdout",
     "output_type": "stream",
     "text": [
      "[[ 100.     1.7    1. ]\n",
      " [  80.     1.9    0. ]\n",
      " [  67.     2.     0. ]]\n"
     ]
    }
   ],
   "source": [
    "import numpy as np\n",
    "from sklearn import preprocessing\n",
    "X=np.asanyarray([[100,1.7,1],\n",
    "            [80,1.9,0],\n",
    "            [67,2.0,0]], dtype=np.float)\n",
    "print X"
   ]
  },
  {
   "cell_type": "code",
   "execution_count": 15,
   "metadata": {},
   "outputs": [
    {
     "name": "stdout",
     "output_type": "stream",
     "text": [
      "[[ 0.99980556  0.01699669  0.00999806]\n",
      " [ 0.99971809  0.0237433   0.        ]\n",
      " [ 0.99955476  0.02983746  0.        ]]\n"
     ]
    }
   ],
   "source": [
    "X_normalizada = preprocessing.normalize(X, norm='l2')\n",
    "print X_normalizada"
   ]
  },
  {
   "cell_type": "code",
   "execution_count": 16,
   "metadata": {},
   "outputs": [
    {
     "name": "stdout",
     "output_type": "stream",
     "text": [
      "[[  9.99611151e-01   2.88887623e-04   9.99611151e-05]\n",
      " [  9.99436255e-01   5.63744513e-04   0.00000000e+00]\n",
      " [  9.99109726e-01   8.90273759e-04   0.00000000e+00]]\n"
     ]
    }
   ],
   "source": [
    "X_cuadrada = X_normalizada**2\n",
    "print X_cuadrada"
   ]
  },
  {
   "cell_type": "code",
   "execution_count": 17,
   "metadata": {},
   "outputs": [
    {
     "name": "stdout",
     "output_type": "stream",
     "text": [
      "[ 1.  1.  1.]\n"
     ]
    }
   ],
   "source": [
    "X_suma_cuadrado = np.sum(X_cuadrada, axis=1)\n",
    "print X_suma_cuadrado"
   ]
  },
  {
   "cell_type": "code",
   "execution_count": null,
   "metadata": {
    "collapsed": true
   },
   "outputs": [],
   "source": []
  }
 ],
 "metadata": {
  "kernelspec": {
   "display_name": "Python 2",
   "language": "python",
   "name": "python2"
  },
  "language_info": {
   "codemirror_mode": {
    "name": "ipython",
    "version": 2
   },
   "file_extension": ".py",
   "mimetype": "text/x-python",
   "name": "python",
   "nbconvert_exporter": "python",
   "pygments_lexer": "ipython2",
   "version": "2.7.14"
  }
 },
 "nbformat": 4,
 "nbformat_minor": 2
}
