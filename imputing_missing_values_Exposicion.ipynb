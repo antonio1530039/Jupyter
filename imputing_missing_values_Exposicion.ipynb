{
 "cells": [
  {
   "cell_type": "code",
   "execution_count": 9,
   "metadata": {},
   "outputs": [
    {
     "name": "stdout",
     "output_type": "stream",
     "text": [
      "[[ 1.          2.        ]\n",
      " [ 4.          3.        ]\n",
      " [ 7.          6.        ]\n",
      " [ 4.          3.66666667]]\n"
     ]
    }
   ],
   "source": [
    "import numpy as np\n",
    "from sklearn.preprocessing import Imputer\n",
    "imp = Imputer(missing_values=\"NaN\", strategy='mean', axis=0)\n",
    "#imp.fit([[3,2],[5,3],[3,2]])\n",
    "imp.fit([[1,2],[np.nan,3],[7,6],[np.nan,np.nan]])\n",
    "X = [[1,2],[np.nan,3],[7,6],[np.nan,np.nan]]\n",
    "print(imp.transform(X))"
   ]
  },
  {
   "cell_type": "code",
   "execution_count": 32,
   "metadata": {},
   "outputs": [
    {
     "name": "stdout",
     "output_type": "stream",
     "text": [
      "[[ 1.  2.]\n",
      " [ 3.  3.]\n",
      " [ 7.  6.]\n",
      " [ 3.  2.]]\n"
     ]
    }
   ],
   "source": [
    "#median\n",
    "import numpy as np\n",
    "from sklearn.preprocessing import Imputer\n",
    "imp = Imputer(missing_values=\"NaN\", strategy='median', axis=0)\n",
    "imp.fit([[3,2],[5,3],[3,2]])\n",
    "#imp.fit([[1,2],[np.nan,3],[7,6],[np.nan,np.nan]])\n",
    "X = [[1,2],[np.nan,3],[7,6],[np.nan,np.nan]]\n",
    "print(imp.transform(X))\n"
   ]
  },
  {
   "cell_type": "code",
   "execution_count": 15,
   "metadata": {},
   "outputs": [
    {
     "name": "stdout",
     "output_type": "stream",
     "text": [
      "[[ 1.  2.]\n",
      " [ 3.  3.]\n",
      " [ 7.  6.]\n",
      " [ 3.  2.]]\n"
     ]
    }
   ],
   "source": [
    "#most frequent\n",
    "import numpy as np\n",
    "\n",
    "from sklearn.preprocessing import Imputer\n",
    "imp = Imputer(missing_values=\"NaN\", strategy='most_frequent', axis=0)\n",
    "imp.fit([[3,2],[5,3],[3,2]])\n",
    "#imp.fit([[1,2],[np.nan,3],[7,6],[np.nan,np.nan]])\n",
    "X = [[1,2],[np.nan,3],[7,6],[np.nan,np.nan]]\n",
    "print(imp.transform(X))\n"
   ]
  },
  {
   "cell_type": "code",
   "execution_count": null,
   "metadata": {},
   "outputs": [],
   "source": []
  },
  {
   "cell_type": "code",
   "execution_count": null,
   "metadata": {
    "collapsed": true
   },
   "outputs": [],
   "source": []
  }
 ],
 "metadata": {
  "kernelspec": {
   "display_name": "Python 2",
   "language": "python",
   "name": "python2"
  },
  "language_info": {
   "codemirror_mode": {
    "name": "ipython",
    "version": 2
   },
   "file_extension": ".py",
   "mimetype": "text/x-python",
   "name": "python",
   "nbconvert_exporter": "python",
   "pygments_lexer": "ipython2",
   "version": "2.7.14"
  }
 },
 "nbformat": 4,
 "nbformat_minor": 2
}
