{
 "cells": [
  {
   "cell_type": "code",
   "execution_count": 1,
   "metadata": {},
   "outputs": [],
   "source": [
    "import pandas as pd\n",
    "import numpy as np\n",
    "\n",
    "# load data \n",
    "problem = pd.read_csv(\"Knapsack_Problem_Instances/KP20_01.txt\", header=None)\n",
    "\n",
    "cap = float(problem.at[1,0])\n",
    "max_value = float(problem.at[2,0])\n",
    "#Get elements only from problem ; returns dataframe of elements\n",
    "def getElements(data):\n",
    "    data = pd.DataFrame(data)\n",
    "    Elements = [[0.0 for x in range(3)] for y in range( len(data) - 3)]\n",
    "    for i in range(3,len(data)):\n",
    "        save=''\n",
    "        for j in range(0, len(data.at[i,0])):\n",
    "            if(data.at[i,0][j]=='\\t'):\n",
    "                Elements[i-3][0] = i-3\n",
    "                Elements[i-3][1] = float(save)\n",
    "                Elements[i-3][2] = float(data.at[i,0][(j+1):])\n",
    "            else:\n",
    "                save=save + data.at[i,0][j]\n",
    "    return pd.DataFrame(Elements)\n",
    "    "
   ]
  },
  {
   "cell_type": "code",
   "execution_count": 2,
   "metadata": {},
   "outputs": [],
   "source": [
    "class solution:\n",
    "    binary_sequence = []\n",
    "    value = 0\n",
    "    cost = 0\n",
    "    def __init__(self,n_elements, value, cost):\n",
    "        self.binary_sequence = [0 for x in range(n_elements)]\n",
    "        self.value=value\n",
    "        self.cost=cost\n",
    "    \n",
    "\n",
    "\n",
    "def algorithm(elements_data, lim):\n",
    "    sol = solution(len(elements_data),0,0)\n",
    "    cost=0.0\n",
    "    value = 0.0\n",
    "    for i in range(0, len(elements_data)):\n",
    "        if (float(elements_data.at[i,2]) + cost) <= lim:\n",
    "            cost= cost + float(elements_data.at[i,2])\n",
    "            value = value + float(elements_data.at[i,1])\n",
    "            sol.binary_sequence[int(elements_data.at[i,0])] = 1\n",
    "    sol.value=value\n",
    "    sol.cost=cost\n",
    "    return sol"
   ]
  },
  {
   "cell_type": "code",
   "execution_count": 10,
   "metadata": {},
   "outputs": [
    {
     "name": "stdout",
     "output_type": "stream",
     "text": [
      "RND ENFOQUE NO INFORMADO\n",
      "[0, 1, 0, 0, 1, 0, 0, 0, 0, 0, 0, 0, 0, 0, 0, 0, 0, 1, 0, 0]\n",
      "Value: 1160.0\n",
      "Cost: 920.0\n"
     ]
    }
   ],
   "source": [
    "#RND ############################################# (ENFOQUE NO INFORMADO)\n",
    "#random selection\n",
    "e = [[0.0 for x in range(3)] for y in range( len(problem) - 3)]\n",
    "e = getElements(problem)\n",
    "#reindex\n",
    "random_index = [x for x in range(len(problem)-3)]\n",
    "np.random.shuffle(random_index) #REVOLVER INDICES DEL ARRAY\n",
    "e = e.reindex(random_index) #reindex the dataframe\n",
    "e = e.as_matrix() #convert to matriz to set the new positions\n",
    "e = pd.DataFrame(e) #convert to dataframe again to set the new positions\n",
    "sol_p = algorithm(e, cap)\n",
    "print \"RND ENFOQUE NO INFORMADO\"\n",
    "print sol_p.binary_sequence\n",
    "print \"Value: \"+ str(sol_p.value)\n",
    "print \"Cost: \"+ str(sol_p.cost)\n"
   ]
  },
  {
   "cell_type": "code",
   "execution_count": 11,
   "metadata": {},
   "outputs": [
    {
     "name": "stdout",
     "output_type": "stream",
     "text": [
      "GR1 ENFOQUE AMBICIOSO\n",
      "       0       1      2\n",
      "0   14.0  1020.0  660.0\n",
      "1    6.0   918.0  594.0\n",
      "2   15.0   816.0  528.0\n",
      "3   19.0   714.0  462.0\n",
      "4    8.0   714.0  462.0\n",
      "5    4.0   612.0  396.0\n",
      "6    9.0   510.0  330.0\n",
      "7   17.0   510.0  330.0\n",
      "8    7.0   408.0  264.0\n",
      "9   13.0   204.0  132.0\n",
      "10  16.0   190.0  970.0\n",
      "11   5.0   171.0  873.0\n",
      "12   2.0   133.0  679.0\n",
      "13  18.0   114.0  582.0\n",
      "14   0.0   114.0  582.0\n",
      "15  10.0   114.0  582.0\n",
      "16   3.0    95.0  485.0\n",
      "17  11.0    76.0  388.0\n",
      "18  12.0    57.0  291.0\n",
      "19   1.0    38.0  194.0\n",
      "[0, 0, 0, 0, 0, 0, 0, 1, 0, 0, 0, 0, 0, 0, 1, 0, 0, 0, 0, 0]\n",
      "Value: 1428.0\n",
      "Cost: 924.0\n"
     ]
    }
   ],
   "source": [
    "#GR1 ############################################ ORDEN DESC -> valor (ENFOQUE AMBICIOSO)\n",
    "print \"GR1 ENFOQUE AMBICIOSO\"\n",
    "e_gr1 = [[0.0 for x in range(3)] for y in range( len(problem) - 3)]\n",
    "e_gr1 = getElements(problem)\n",
    "e_gr1 = e_gr1.sort_values(1, ascending=False) #sort asc by value (col 1 stores the value of the each element)\n",
    "e_gr1 = e_gr1.as_matrix() #convert to matrix in order to set the new positions\n",
    "e_gr1 = pd.DataFrame(e_gr1) #convert to dataframe in order to set the new positions\n",
    "print e_gr1\n",
    "\n",
    "sol_gr1 = solution(len(e_gr1),0,0)\n",
    "sol_gr1 = algorithm(e_gr1, cap)\n",
    "print sol_gr1.binary_sequence\n",
    "print \"Value: \" + str(sol_gr1.value)\n",
    "print \"Cost: \" + str(sol_gr1.cost)\n"
   ]
  },
  {
   "cell_type": "code",
   "execution_count": 12,
   "metadata": {},
   "outputs": [
    {
     "name": "stdout",
     "output_type": "stream",
     "text": [
      "GR2 ENFOQUE CAUTELOSO, TACAÑO\n",
      "       0       1      2\n",
      "0   13.0   204.0  132.0\n",
      "1    1.0    38.0  194.0\n",
      "2    7.0   408.0  264.0\n",
      "3   12.0    57.0  291.0\n",
      "4    9.0   510.0  330.0\n",
      "5   17.0   510.0  330.0\n",
      "6   11.0    76.0  388.0\n",
      "7    4.0   612.0  396.0\n",
      "8   19.0   714.0  462.0\n",
      "9    8.0   714.0  462.0\n",
      "10   3.0    95.0  485.0\n",
      "11  15.0   816.0  528.0\n",
      "12  18.0   114.0  582.0\n",
      "13  10.0   114.0  582.0\n",
      "14   0.0   114.0  582.0\n",
      "15   6.0   918.0  594.0\n",
      "16  14.0  1020.0  660.0\n",
      "17   2.0   133.0  679.0\n",
      "18   5.0   171.0  873.0\n",
      "19  16.0   190.0  970.0\n",
      "[0, 1, 0, 0, 0, 0, 0, 1, 0, 0, 0, 0, 1, 1, 0, 0, 0, 0, 0, 0]\n",
      "Value: 707.0\n",
      "Cost: 881.0\n"
     ]
    }
   ],
   "source": [
    "#GR2 ############################################ ORDEN ASC ->PESO (ENFOQUE CAUTELOSO, TACAÑO)\n",
    "print \"GR2 ENFOQUE CAUTELOSO, TACAÑO\"\n",
    "e_gr2 = [[0.0 for x in range(3)] for y in range( len(problem) - 3)]\n",
    "e_gr2 = getElements(problem)\n",
    "e_gr2 = e_gr2.sort_values(2, ascending=True) #sort asc by value (col 1 stores the value of the each element)\n",
    "e_gr2 = e_gr2.as_matrix() #convert to matrix in order to set the new positions\n",
    "e_gr2 = pd.DataFrame(e_gr2) #convert to dataframe in order to set the new positions\n",
    "print e_gr2\n",
    "\n",
    "sol_gr2 = solution(len(e_gr2),0,0)\n",
    "sol_gr2 = algorithm(e_gr2, cap)\n",
    "\n",
    "print sol_gr2.binary_sequence\n",
    "print \"Value: \" + str(sol_gr2.value)\n",
    "print \"Cost: \" + str(sol_gr2.cost)"
   ]
  },
  {
   "cell_type": "code",
   "execution_count": 13,
   "metadata": {},
   "outputs": [
    {
     "name": "stdout",
     "output_type": "stream",
     "text": [
      "GR3 ENFOQUE ASTUTO\n",
      "       0       1      2         3\n",
      "0   19.0   714.0  462.0  1.545455\n",
      "1   13.0   204.0  132.0  1.545455\n",
      "2   17.0   510.0  330.0  1.545455\n",
      "3    4.0   612.0  396.0  1.545455\n",
      "4    6.0   918.0  594.0  1.545455\n",
      "5    7.0   408.0  264.0  1.545455\n",
      "6    8.0   714.0  462.0  1.545455\n",
      "7    9.0   510.0  330.0  1.545455\n",
      "8   15.0   816.0  528.0  1.545455\n",
      "9   14.0  1020.0  660.0  1.545455\n",
      "10  18.0   114.0  582.0  0.195876\n",
      "11  16.0   190.0  970.0  0.195876\n",
      "12   0.0   114.0  582.0  0.195876\n",
      "13  12.0    57.0  291.0  0.195876\n",
      "14  11.0    76.0  388.0  0.195876\n",
      "15   1.0    38.0  194.0  0.195876\n",
      "16   5.0   171.0  873.0  0.195876\n",
      "17   3.0    95.0  485.0  0.195876\n",
      "18   2.0   133.0  679.0  0.195876\n",
      "19  10.0   114.0  582.0  0.195876\n",
      "[0, 0, 0, 0, 0, 0, 0, 0, 0, 0, 0, 0, 0, 1, 0, 0, 0, 1, 0, 1]\n",
      "Value: 1428.0\n",
      "Cost: 924.0\n"
     ]
    }
   ],
   "source": [
    "#GR3 ############################################ ORDEN DESC -> valor/costo (ENFOQUE ASTUTO)\n",
    "print \"GR3 ENFOQUE ASTUTO\"\n",
    "e_gr3 = [[0.0 for x in range(3)] for y in range( len(problem) - 3)]\n",
    "e_gr3 = getElements(problem)\n",
    "e_gr3[3] = [e_gr3.at[x,1]/e_gr3.at[x,2] for x in range(0,len(e_gr3))] #creating the new column value/cost\n",
    "e_gr3 = e_gr3.sort_values(3, ascending=False) #sort desc by value/cost (col 3 stores the value/cost of the each element)\n",
    "e_gr3 = e_gr3.as_matrix() #convert to matrix in order to set the new positions\n",
    "e_gr3 = pd.DataFrame(e_gr3) #convert to dataframe in order to set the new positions\n",
    "\n",
    "print e_gr3\n",
    "\n",
    "sol_gr3 = solution(len(e_gr3),0,0)\n",
    "sol_gr3 = algorithm(e_gr3, cap)\n",
    "\n",
    "print sol_gr3.binary_sequence\n",
    "print \"Value: \" + str(sol_gr3.value)\n",
    "print \"Cost: \" + str(sol_gr3.cost)"
   ]
  }
 ],
 "metadata": {
  "kernelspec": {
   "display_name": "Python 2",
   "language": "python",
   "name": "python2"
  },
  "language_info": {
   "codemirror_mode": {
    "name": "ipython",
    "version": 2
   },
   "file_extension": ".py",
   "mimetype": "text/x-python",
   "name": "python",
   "nbconvert_exporter": "python",
   "pygments_lexer": "ipython2",
   "version": "2.7.14"
  }
 },
 "nbformat": 4,
 "nbformat_minor": 2
}
